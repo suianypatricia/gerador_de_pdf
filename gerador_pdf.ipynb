{
 "cells": [
  {
   "cell_type": "markdown",
   "metadata": {},
   "source": [
    "### Criando um gerador de PDF que estima orçamentos de projetos "
   ]
  },
  {
   "cell_type": "markdown",
   "metadata": {},
   "source": [
    "##### Instalando a biblioteca FPDF, utilizada para gerar o PDF:"
   ]
  },
  {
   "cell_type": "code",
   "execution_count": 14,
   "metadata": {},
   "outputs": [],
   "source": [
    "#!pip install fpdf                 - Instalação\n",
    "# pip show fpdf   Versão: 1.7.2    - Verificando a versão"
   ]
  },
  {
   "cell_type": "markdown",
   "metadata": {},
   "source": [
    "##### Após a instalação, utilizaremos a FPDF:\n"
   ]
  },
  {
   "cell_type": "code",
   "execution_count": 15,
   "metadata": {},
   "outputs": [],
   "source": [
    "from fpdf import FPDF"
   ]
  },
  {
   "cell_type": "markdown",
   "metadata": {},
   "source": [
    "##### Em seguida criaremos os inputs para receber os dados dos usuários e as variáveis para armazenar:\n",
    "\n",
    "\n",
    "\n"
   ]
  },
  {
   "cell_type": "code",
   "execution_count": 16,
   "metadata": {},
   "outputs": [],
   "source": [
    "projeto = input(\"Digite a descrição do projeto: \") # O = é utilizado como atribuição para variáveis\n",
    "horas_estimadas = input(\"Qual o total de horas estimadas para realizar o projeto? \")\n",
    "valor_hora = input(\"Digite o valor da hora trabalhada: \")\n",
    "prazo = input(\"Qual o prazo estimado para conclusão do projeto? \")\n"
   ]
  },
  {
   "cell_type": "markdown",
   "metadata": {},
   "source": [
    "##### Saída dos dados recebidos do usuário:"
   ]
  },
  {
   "cell_type": "code",
   "execution_count": 17,
   "metadata": {},
   "outputs": [
    {
     "name": "stdout",
     "output_type": "stream",
     "text": [
      "Dashboard financeiro\n",
      "100\n",
      "10\n",
      "4 meses\n"
     ]
    }
   ],
   "source": [
    "# Mostrando os dados recebidos pelo usuário que serão preenchidos no pdf gerado\n",
    "print(projeto)\n",
    "print(horas_estimadas)\n",
    "print(valor_hora)\n",
    "print(prazo)"
   ]
  },
  {
   "cell_type": "markdown",
   "metadata": {},
   "source": [
    "##### Calculando o valor total do projeto e convertendo as horas e o valor para inteiro para que seja possível realizar a multiplicação:"
   ]
  },
  {
   "cell_type": "code",
   "execution_count": 18,
   "metadata": {},
   "outputs": [
    {
     "name": "stdout",
     "output_type": "stream",
     "text": [
      "1000\n"
     ]
    }
   ],
   "source": [
    "valor_total = int((horas_estimadas)) * int((valor_hora))\n",
    "print(valor_total)"
   ]
  },
  {
   "cell_type": "markdown",
   "metadata": {},
   "source": [
    "##### Gerando o PDF do orçamento"
   ]
  },
  {
   "cell_type": "code",
   "execution_count": 19,
   "metadata": {},
   "outputs": [
    {
     "name": "stdout",
     "output_type": "stream",
     "text": [
      "Orçamento para análise de dados gerado com sucesso!\n"
     ]
    }
   ],
   "source": [
    "pdf = FPDF()\n",
    "\n",
    "\n",
    "# Adiciona uma página em branco ao pdf \n",
    "pdf.add_page()\n",
    "\n",
    "# Define a fonte escolhida \n",
    "pdf.set_font(\"Arial\")\n",
    "\n",
    "# Adiciona o template desejado\n",
    "pdf.image(\"template.png\",x=0, y=0)\n",
    "\n",
    "# Adiciona o texto na posição especificada\n",
    "pdf.text(115, 145, projeto)\n",
    "pdf.text(115, 160, horas_estimadas)\n",
    "pdf.text(115, 175, valor_hora)\n",
    "pdf.text(115, 190, prazo)\n",
    "pdf.text(115, 205, str(valor_total ))\n",
    "\n",
    "# Salva o pdf e indica o nome do pdf\n",
    "pdf.output(\"Orçamento - Análise de Dados.pdf\")\n",
    "\n",
    "# Saída para informar que a geração foi bem sucedida\n",
    "print( \"Orçamento para análise de dados gerado com sucesso!\")"
   ]
  }
 ],
 "metadata": {
  "kernelspec": {
   "display_name": "Python 3",
   "language": "python",
   "name": "python3"
  },
  "language_info": {
   "codemirror_mode": {
    "name": "ipython",
    "version": 3
   },
   "file_extension": ".py",
   "mimetype": "text/x-python",
   "name": "python",
   "nbconvert_exporter": "python",
   "pygments_lexer": "ipython3",
   "version": "3.9.1"
  }
 },
 "nbformat": 4,
 "nbformat_minor": 2
}
